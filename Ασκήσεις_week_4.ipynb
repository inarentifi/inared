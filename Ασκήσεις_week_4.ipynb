{
  "nbformat": 4,
  "nbformat_minor": 0,
  "metadata": {
    "colab": {
      "provenance": [],
      "authorship_tag": "ABX9TyOudH5Pl6NLShVjPGXuyySI",
      "include_colab_link": true
    },
    "kernelspec": {
      "name": "python3",
      "display_name": "Python 3"
    },
    "language_info": {
      "name": "python"
    }
  },
  "cells": [
    {
      "cell_type": "markdown",
      "metadata": {
        "id": "view-in-github",
        "colab_type": "text"
      },
      "source": [
        "<a href=\"https://colab.research.google.com/github/inarentifi/inared/blob/main/%CE%91%CF%83%CE%BA%CE%AE%CF%83%CE%B5%CE%B9%CF%82_week_4.ipynb\" target=\"_parent\"><img src=\"https://colab.research.google.com/assets/colab-badge.svg\" alt=\"Open In Colab\"/></a>"
      ]
    },
    {
      "cell_type": "code",
      "source": [
        "urls = [\"https://www.cnn.gr/kosmos/story/413275/yiothetiste-mia-katsika-italiko-nisi-pou-kataklyzetai-apo-ta-zoa-ta-xarizei\",\n",
        "        \"https://www.cnn.gr/kosmos/story/413234/to-megethos-tou-egkefalou-kai-pos-sxetizetai-me-tin-anoia-ti-deixnei-erevna-pou-diirkese-75-xronia\",\n",
        "        \"https://www.cnn.gr/kosmos/story/413225/elefantas-skotose-touristria-se-safari-stin-zampia-h-stigmi-tis-epithesis\"]\n",
        "\n",
        "url1 = urls[0]\n",
        "url1.replace(\"https://www.cnn.gr/kosmos/story/413275/\" , \" \").replace(\"-\", \" \")\n",
        "url2 = urls[1]\n",
        "url2.replace(\"https://www.cnn.gr/kosmos/story/413234/\", \" \").replace(\"-\", \" \")\n",
        "title1 = url1.replace(\"https://www.cnn.gr/kosmos/story/413275/\" , \" \").replace(\"-\", \" \")\n",
        "title2 = url2.replace(\"https://www.cnn.gr/kosmos/story/413234/\", \" \").replace(\"-\", \" \")\n",
        "titloi = []\n",
        "titloi.append (title1)\n",
        "titloi.append (title2)"
      ],
      "metadata": {
        "id": "Aqo8PzTRFimo"
      },
      "execution_count": 196,
      "outputs": []
    },
    {
      "cell_type": "code",
      "source": [
        "titlos1 = title1.split(\" \")\n",
        "titlos2 = title2.split(\" \")\n",
        "titlos3 = url1.split(\"-\")\n",
        "titlos4 = url2.split(\"-\")\n",
        "lekseis = []\n",
        "len(titlos1)\n",
        "len(titlos2)\n",
        "len(titlos3)\n",
        "len(titlos4)\n",
        "lekseis.append(len(titlos1))\n",
        "lekseis.append(len(titlos2))\n",
        "lekseis.append(len(titlos3))\n",
        "lekseis.append(len(titlos4))"
      ],
      "metadata": {
        "id": "l1rvRc36IJrX"
      },
      "execution_count": 197,
      "outputs": []
    },
    {
      "cell_type": "code",
      "source": [
        "url3 = urls[2]\n",
        "url3.replace(\"https://www.cnn.gr/kosmos/story/413225/\", \" \").replace(\"-\", \" \")\n",
        "title3 = url3.replace(\"https://www.cnn.gr/kosmos/story/413225/\", \" \").replace(\"-\", \" \")\n",
        "titlos5 = title3.split(\" \")\n",
        "titlos6 = url3.split(\"-\")\n",
        "len(titlos5)\n",
        "len(titlos6)\n",
        "lekseis.append(len(titlos5))\n",
        "lekseis.append(len(titlos6))\n",
        "titloi.append(title3)"
      ],
      "metadata": {
        "id": "ixBq7_nGLd7N"
      },
      "execution_count": 198,
      "outputs": []
    },
    {
      "cell_type": "code",
      "source": [
        "print(urls , titloi, lekseis)"
      ],
      "metadata": {
        "colab": {
          "base_uri": "https://localhost:8080/"
        },
        "id": "I58nD1IaN8W6",
        "outputId": "711004d5-6353-49f9-b948-122ec8463a66"
      },
      "execution_count": 199,
      "outputs": [
        {
          "output_type": "stream",
          "name": "stdout",
          "text": [
            "['https://www.cnn.gr/kosmos/story/413275/yiothetiste-mia-katsika-italiko-nisi-pou-kataklyzetai-apo-ta-zoa-ta-xarizei', 'https://www.cnn.gr/kosmos/story/413234/to-megethos-tou-egkefalou-kai-pos-sxetizetai-me-tin-anoia-ti-deixnei-erevna-pou-diirkese-75-xronia', 'https://www.cnn.gr/kosmos/story/413225/elefantas-skotose-touristria-se-safari-stin-zampia-h-stigmi-tis-epithesis'] [' yiothetiste mia katsika italiko nisi pou kataklyzetai apo ta zoa ta xarizei', ' to megethos tou egkefalou kai pos sxetizetai me tin anoia ti deixnei erevna pou diirkese 75 xronia', ' elefantas skotose touristria se safari stin zampia h stigmi tis epithesis'] [13, 18, 12, 17, 12, 11]\n"
          ]
        }
      ]
    }
  ]
}