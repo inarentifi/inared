{
  "nbformat": 4,
  "nbformat_minor": 0,
  "metadata": {
    "colab": {
      "provenance": [],
      "include_colab_link": true
    },
    "kernelspec": {
      "name": "python3",
      "display_name": "Python 3"
    },
    "language_info": {
      "name": "python"
    }
  },
  "cells": [
    {
      "cell_type": "markdown",
      "metadata": {
        "id": "view-in-github",
        "colab_type": "text"
      },
      "source": [
        "<a href=\"https://colab.research.google.com/github/inarentifi/inared/blob/main/Homework_week3_2.ipynb\" target=\"_parent\"><img src=\"https://colab.research.google.com/assets/colab-badge.svg\" alt=\"Open In Colab\"/></a>"
      ]
    },
    {
      "cell_type": "markdown",
      "source": [
        "**Άσκηση 1**\n",
        "\n",
        "Φτιάξτε ένα νέο κελί κώδικα (Code cell) ακριβώς κάτω από αυτό και κάνετε τα παρακάτω:\n",
        "\n",
        "- δημιουργήστε μια μεταβλητή με τιμή την datetime ημερομηνία δημοσίευσης ενός άρθρου (η μεταβλητή θα είναι string και η τιμή της θα είναι: 2024-03-28T12:07:19+02:00)\n",
        "- απομονώστε την ημερομηνία (2024-03-28) και αποθηκεύστε τη σε μια μεταβλητή με κατάλληλο όνομα (θυμηθείτε ότι τα strings είναι σαν λίστες, άρα μπορούμε να κάνουμε slicing, δηλαδή να καλέσουμε ένα τμήμα τους)\n",
        "- τυπώστε (print) την ημερομηνία\n",
        "- φτιάξτε ένα νέο code cell\n",
        "- αποθηκεύστε σε διαφορετικές μεταβλητές το έτος, το μήνα και την ημέρα (tip: κάντε τα ένα-ένα και τυπώνετε για να βλέπετε αν το κάνετε σωστά)\n",
        "- φτιάξτε ένα νέο code cell\n",
        "- απομονώστε την ώρα (το 12:07:19) και αποθηκεύστε τη σε μια νέα μεταβλητή\n",
        "- φτιάξτε ένα νέο code cell\n",
        "- χρησιμοποιώντας τις μεταβλητές που φτιάξατε, δημιουργήστε μια νέα μεταβλητή με όνομα custom_daytime και τιμή: <ημέρα>/<μήνας>/<έτος>, ώρα: <ώρα> και τυπώστε τη στην οθόνη\n",
        "\n",
        "Σημαντική παρατήρηση: **Δεν θα γράψετε χειροκίνητα** τις τιμές του έτους, του μήνα κλπ. Θα τις πάρετε με slicing (από τον αριθμό index τάδε έως το index τάδε).\n"
      ],
      "metadata": {
        "id": "ZpLO_nDQLiFV"
      }
    },
    {
      "cell_type": "code",
      "source": [
        "datetime = \"2024-03-28T12:07:19+2:00\"\n",
        "date = datetime[0:10]\n",
        "print(date)"
      ],
      "metadata": {
        "id": "nmNfKJ3foIB1",
        "colab": {
          "base_uri": "https://localhost:8080/"
        },
        "outputId": "1e8b6e40-ba33-42e0-ca1d-782c066d7f79"
      },
      "execution_count": null,
      "outputs": [
        {
          "output_type": "stream",
          "name": "stdout",
          "text": [
            "2024-03-28\n"
          ]
        }
      ]
    },
    {
      "cell_type": "code",
      "source": [
        "year = datetime[0:4]\n",
        "month = datetime[5:7]\n",
        "day = datetime[8:10]"
      ],
      "metadata": {
        "id": "2RyCRs-hHG19"
      },
      "execution_count": null,
      "outputs": []
    },
    {
      "cell_type": "code",
      "source": [
        "hour = datetime[11:19]"
      ],
      "metadata": {
        "id": "FPxYymSAHhrf"
      },
      "execution_count": null,
      "outputs": []
    },
    {
      "cell_type": "code",
      "source": [
        "custom_daytime =(day + \"-\" + month +\"-\" + year + \",\" + \"ωρα:\"+ hour)\n",
        "print(custom_daytime)"
      ],
      "metadata": {
        "colab": {
          "base_uri": "https://localhost:8080/"
        },
        "id": "J2LapCtxJ0ZY",
        "outputId": "ae08b752-6694-4b7f-dd20-9d2e93f36299"
      },
      "execution_count": null,
      "outputs": [
        {
          "output_type": "stream",
          "name": "stdout",
          "text": [
            "28-03-2024,ωρα:12:07:19\n"
          ]
        }
      ]
    },
    {
      "cell_type": "markdown",
      "source": [
        "**Άσκηση 2**"
      ],
      "metadata": {
        "id": "jZ636ybbM6bt"
      }
    },
    {
      "cell_type": "markdown",
      "source": [
        "Φτιάξτε ένα νέο κελί κώδικα (Code cell) ακριβώς κάτω από αυτό και κάνετε τα παρακάτω:\n",
        "\n",
        "1. Δημιουργήστε μια κενή λίστα με όνομα usersL και μια επίσης κενή λίστα με όνομα providersL\n",
        "2. Φτιάξτε μια μεταβλητή με όνομα email1 και τιμή ένα email\n",
        "3. Βρείτε το index του \"@\" (με function) και αποθηκεύστε το σε μια μεταβλητή με όνομα papaki_index1\n",
        "4. Πάρτε (slice) το τμήμα του mail που έχει μόνο το όνομα (tip: από την αρχή ως το @), αποθηκεύστε το σε μια μεταβλητή με όνομα user1 και βάλτε το στη λίστα usersL (με append())\n",
        "5. Πάρτε το τμήμα του mail από μετα το @ (tip: papaki_index+1) ως το τέλος και αποθηκεύστε το σε μια μεταβλητή με όνομα provider1\n",
        "6. Αντικαταστήστε (με function) το τμήμα της κατάληξης του domain, με το τίποτα (κενό string) και βάλτε το στη λίστα providersL (π.χ. από το google.com, αντικαταστήστε το \".com\" με \"\")\n",
        "7. Επαναλάβετε τα βήματα 2-5 άλλη 1 φορά για ένα άλλο email (κάντε copy-paste και αλλάξτε ό,τι χρειάζεται)\n",
        "8. Τυπώστε το πλήθος των περιεχομένων (len()) και τα περιεχόμενα της λίστας usersL στην οθόνη\n",
        "9. Τυπώστε το πλήθος των περιεχομένων και τα περιεχόμενα της λίστας providersL στην οθόνη\n",
        "10. Ενώστε τις λίστες usersL και providersL\n",
        "\n",
        "Tip: χρησιμοποιήστε όσα κελιά θέλετε έτσι ώστε να ελέγχετε τι κάνετε σε κάθε βήμα"
      ],
      "metadata": {
        "id": "SKpnhopQmBzg"
      }
    },
    {
      "cell_type": "code",
      "source": [
        "usersL = []\n",
        "providersL = [] #βημα 1\n",
        "email1 = \"inarentiphi@gmail.com\" #βημα 2\n",
        "email1_index = \"@\"\n",
        "papaki_index1 = email1_index #βημα 3\n",
        "user1 = email1[0:11]\n",
        "usersL.append(user1) #βημα 4"
      ],
      "metadata": {
        "id": "qYrXsfPe5MPS"
      },
      "execution_count": null,
      "outputs": []
    },
    {
      "cell_type": "code",
      "source": [
        "provider1 = papaki_index1 + email1[12:21] #βημα 5\n",
        "email2 = email1.replace(\".com\", \"\")\n",
        "providersL.append(email2) #βημα 6"
      ],
      "metadata": {
        "id": "wI9tzFVQOvwc"
      },
      "execution_count": null,
      "outputs": []
    },
    {
      "cell_type": "code",
      "source": [
        "newemail = \"bob@gmail.com\" #επαναλαμβανω ολα τα βηματα με καινουριο email\n",
        "newemail_index = \"@\"\n",
        "papaki_index2 = newemail_index\n",
        "user2 = newemail[0:3]\n",
        "usersL.append(user2)"
      ],
      "metadata": {
        "id": "CaQISbj0UNf_"
      },
      "execution_count": null,
      "outputs": []
    },
    {
      "cell_type": "code",
      "source": [
        "provider2 = papaki_index2 + newemail[4:13]\n",
        "newemail2 = newemail.replace(\".com\", \"\")\n",
        "providersL.append(newemail2)"
      ],
      "metadata": {
        "id": "dftpQgSyadr8"
      },
      "execution_count": null,
      "outputs": []
    },
    {
      "cell_type": "code",
      "source": [
        "print(len(usersL))\n",
        "print(usersL)"
      ],
      "metadata": {
        "colab": {
          "base_uri": "https://localhost:8080/"
        },
        "id": "YtdOVfNbYFe1",
        "outputId": "37ffd123-cd14-49b9-8630-e375cfd21014"
      },
      "execution_count": null,
      "outputs": [
        {
          "output_type": "stream",
          "name": "stdout",
          "text": [
            "2\n",
            "['inarentiphi', 'bob']\n"
          ]
        }
      ]
    },
    {
      "cell_type": "code",
      "source": [
        "print(len(providersL))\n",
        "print(providersL)"
      ],
      "metadata": {
        "colab": {
          "base_uri": "https://localhost:8080/"
        },
        "id": "M-owUpBnZ2tm",
        "outputId": "2e809f52-dafb-437d-ac32-31d841ef885e"
      },
      "execution_count": null,
      "outputs": [
        {
          "output_type": "stream",
          "name": "stdout",
          "text": [
            "2\n",
            "['inarentiphi@gmail', 'bob@gmail']\n"
          ]
        }
      ]
    },
    {
      "cell_type": "code",
      "source": [
        "usersL + providersL # βημα 10"
      ],
      "metadata": {
        "colab": {
          "base_uri": "https://localhost:8080/"
        },
        "id": "zXPLcaEJcSxO",
        "outputId": "14ae82c7-f4a0-4c20-ce86-f9af6db02f2c"
      },
      "execution_count": null,
      "outputs": [
        {
          "output_type": "execute_result",
          "data": {
            "text/plain": [
              "['inarentiphi', 'bob', 'inarentiphi@gmail', 'bob@gmail']"
            ]
          },
          "metadata": {},
          "execution_count": 228
        }
      ]
    }
  ]
}