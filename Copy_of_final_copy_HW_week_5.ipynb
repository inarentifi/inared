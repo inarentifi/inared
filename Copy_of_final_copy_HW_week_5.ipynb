{
  "nbformat": 4,
  "nbformat_minor": 0,
  "metadata": {
    "colab": {
      "provenance": [],
      "include_colab_link": true
    },
    "kernelspec": {
      "name": "python3",
      "display_name": "Python 3"
    },
    "language_info": {
      "name": "python"
    }
  },
  "cells": [
    {
      "cell_type": "markdown",
      "metadata": {
        "id": "view-in-github",
        "colab_type": "text"
      },
      "source": [
        "<a href=\"https://colab.research.google.com/github/inarentifi/inared/blob/main/Copy_of_final_copy_HW_week_5.ipynb\" target=\"_parent\"><img src=\"https://colab.research.google.com/assets/colab-badge.svg\" alt=\"Open In Colab\"/></a>"
      ]
    },
    {
      "cell_type": "markdown",
      "source": [
        "#### **Άσκηση 1** (40%)"
      ],
      "metadata": {
        "id": "aeqGkadGt4Ak"
      }
    },
    {
      "cell_type": "markdown",
      "source": [
        "Πάρτε (με copy-paste) τα κομμάτια κώδικα που υπάρχουν παραπάνω, (τα οποία διαχειρίζονται τα urls μιας λίστας: παίρνουν τους τίτλους και το πλήθος των λέξεών τους και τα βάζουν σε λίστες) και βάλτε τον μέσα σε μια for loop ώστε να τρέχει για κάθε url της λίστας urlsL."
      ],
      "metadata": {
        "id": "i-_ysg0Juw_A"
      }
    },
    {
      "cell_type": "markdown",
      "source": [
        "**Βοήθεια**: O κώδικας που θα γράψετε θα δομηθεί σε 4 cells:\n",
        "1. ορισμός της λίστας urlsL που μέσα έχει τα urls των άρθρων\n",
        "2. δημιουργία κενών λιστών: μια για τους τίτλους και μία για τα πλήθη των λέξεων των τίτλων\n",
        "3. for loop που θα κάνει όλη την επεξεργασία για κάθε url στη urlsL\n",
        "4. print το περιεχόμενο των λιστών"
      ],
      "metadata": {
        "id": "z-AaenZvvn0R"
      }
    },
    {
      "cell_type": "code",
      "execution_count": null,
      "metadata": {
        "id": "Fqfs72Tbu972"
      },
      "outputs": [],
      "source": [
        "urlsL = [\n",
        "    \"https://www.reporter.gr/Oles-oi-eidhseis/600370-Ghpeda-Pws-na-apokthsete-hlektroniko-eisithrio-me-kinhto-Huawei-H-diadikasia\",\n",
        "    \"https://www.reporter.gr/Diethnh/Diethneis-Eidhseis/600372-Synodos-Koryfhs-Proshlwsh-sth-synolikh-dieythethsh-toy-Kypriakoy\",\n",
        "    \"https://www.reporter.gr/Analyseis/600531-AVE-Apo-12-4-se-diapragmateysh-oi-20,64-ekat-nees-metoches\",\n",
        "    \"https://www.reporter.gr/Diethnh/Chrhmatisthria/600539-Meikta-proshma-stis-eyrwagores-meta-to-alma-plhthwrismoy-stis-HPA\"\n",
        "]"
      ]
    },
    {
      "cell_type": "code",
      "source": [
        "# 0. πρώτα δημιουργώ τις λίστες που αρχικά θα είναι άδειες\n",
        "titlesL = []\n",
        "wordsL = []"
      ],
      "metadata": {
        "id": "naPdaxYVvO5s"
      },
      "execution_count": null,
      "outputs": []
    },
    {
      "cell_type": "code",
      "source": [
        "for url in urlsL :\n",
        "  url = url.split(\"/\")\n",
        "  title = url[-1]\n",
        "  index_start = title.index(\"-\")\n",
        "  title = title[index_start+1 : ]\n",
        "  title = title.replace(\"-\", \" \")\n",
        "  titlesL.append(title)\n",
        "  words = title.split(\" \")\n",
        "  words = len(words)\n",
        "  wordsL.append(words)\n",
        "print(titlesL)\n",
        "print(wordsL)"
      ],
      "metadata": {
        "colab": {
          "base_uri": "https://localhost:8080/"
        },
        "id": "p7OJY64ewgxx",
        "outputId": "a9b87c8e-d754-4b91-cc22-bff292bf96c7"
      },
      "execution_count": null,
      "outputs": [
        {
          "output_type": "stream",
          "name": "stdout",
          "text": [
            "['Ghpeda Pws na apokthsete hlektroniko eisithrio me kinhto Huawei H diadikasia', 'Synodos Koryfhs Proshlwsh sth synolikh dieythethsh toy Kypriakoy', 'AVE Apo 12 4 se diapragmateysh oi 20,64 ekat nees metoches', 'Meikta proshma stis eyrwagores meta to alma plhthwrismoy stis HPA']\n",
            "[11, 8, 11, 10]\n"
          ]
        }
      ]
    },
    {
      "cell_type": "markdown",
      "source": [
        "#### **Άσκηση 2** (60%)\n",
        "\n",
        "Κάντε ακριβώς το ίδιο πράγμα για **4** urls άρθρων **διαφορετικών** κατηγοριών από το **efsyn.gr**.\n",
        "\n",
        "**Tip:** χρειάζεται να κάνετε μια μικρή τροποποίηση στον κώδικα"
      ],
      "metadata": {
        "id": "sjg_eUHDyRWz"
      }
    },
    {
      "cell_type": "code",
      "source": [
        "urlsL = [\n",
        "    \"https://www.efsyn.gr/kosmos/mesi-anatoli/429711_sklira-antipoina-me-synesi-exetazei-israil-eno-i-teherani-proeidopoiei\",\n",
        "    \"https://www.efsyn.gr/nisides/429428_yparhei-telika-kratos-dikaioy\",\n",
        "    \"https://www.efsyn.gr/stiles/apopseis/429220_i-kraygi-toy-patriarhikoy-thirioy-poy-klydonizetai\",\n",
        "    \"https://www.efsyn.gr/politiki/exoteriki-politiki/429396_o-zelenski-dinei-xana-ton-mitsotaki-gia-symfonies-exigiseis-zita\"\n",
        "]"
      ],
      "metadata": {
        "id": "Rx6oVIp7yQBD"
      },
      "execution_count": null,
      "outputs": []
    },
    {
      "cell_type": "code",
      "source": [
        "titlesL = []\n",
        "wordsL = []"
      ],
      "metadata": {
        "id": "yrL04qFQ2uoz"
      },
      "execution_count": null,
      "outputs": []
    },
    {
      "cell_type": "code",
      "source": [
        "for url in urlsL :\n",
        "  url = url.split(\"/\")\n",
        "  title = url[-1]\n",
        "  index_start = title.index(\"_\")\n",
        "  title = title[index_start+1 : ]\n",
        "  title = title.replace(\"-\", \" \")\n",
        "  words = title.split(\" \")\n",
        "  words = len(words)\n",
        "  titlesL.append(title)\n",
        "  wordsL.append(words)\n",
        "print(titlesL)\n",
        "print(wordsL)"
      ],
      "metadata": {
        "id": "WI0s4mhQ1FT2",
        "colab": {
          "base_uri": "https://localhost:8080/"
        },
        "outputId": "0e4e9e32-e073-4e62-fa6c-f61ef23702ec"
      },
      "execution_count": null,
      "outputs": [
        {
          "output_type": "stream",
          "name": "stdout",
          "text": [
            "['sklira antipoina me synesi exetazei israil eno i teherani proeidopoiei', 'yparhei telika kratos dikaioy', 'i kraygi toy patriarhikoy thirioy poy klydonizetai', 'o zelenski dinei xana ton mitsotaki gia symfonies exigiseis zita', 'sklira antipoina me synesi exetazei israil eno i teherani proeidopoiei', 'yparhei telika kratos dikaioy', 'i kraygi toy patriarhikoy thirioy poy klydonizetai', 'o zelenski dinei xana ton mitsotaki gia symfonies exigiseis zita']\n",
            "[10, 4, 7, 10, 10, 4, 7, 10]\n"
          ]
        }
      ]
    },
    {
      "cell_type": "markdown",
      "source": [
        "\n",
        "\n",
        "---\n",
        "\n",
        "\n",
        "\n"
      ],
      "metadata": {
        "id": "cDxE-rXP5Lso"
      }
    }
  ]
}