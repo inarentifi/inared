{
  "nbformat": 4,
  "nbformat_minor": 0,
  "metadata": {
    "colab": {
      "provenance": [],
      "include_colab_link": true
    },
    "kernelspec": {
      "name": "python3",
      "display_name": "Python 3"
    },
    "language_info": {
      "name": "python"
    }
  },
  "cells": [
    {
      "cell_type": "markdown",
      "metadata": {
        "id": "view-in-github",
        "colab_type": "text"
      },
      "source": [
        "<a href=\"https://colab.research.google.com/github/inarentifi/inared/blob/main/Homework_week2.ipynb\" target=\"_parent\"><img src=\"https://colab.research.google.com/assets/colab-badge.svg\" alt=\"Open In Colab\"/></a>"
      ]
    },
    {
      "cell_type": "markdown",
      "source": [
        "**Άσκηση 1**\n",
        "\n",
        "1. Σε ένα νέο κελί κώδικα, ξαναγράψτε τον παρακάτω κώδικα, έτσι ώστε να τρέχει χωρίς να πετάει error."
      ],
      "metadata": {
        "id": "RNY03X7pKHnf"
      }
    },
    {
      "cell_type": "code",
      "source": [
        "my name = \"Vasilis\"\n",
        "my-email = bill2005@example.com\n",
        "myAM_4first#digits = 9983\n",
        "2FavoriteMovies = \"Life of Bryan,\" + \" The meaning of life\""
      ],
      "metadata": {
        "id": "1duhjtEIKNJx"
      },
      "execution_count": null,
      "outputs": []
    },
    {
      "cell_type": "markdown",
      "source": [
        "2. Tυπώστε (print) τον τύπο δεδομένων καθεμιάς από τις παραπάνω μεταβλητές"
      ],
      "metadata": {
        "id": "uWOJYGCtPaS8"
      }
    },
    {
      "cell_type": "code",
      "source": [
        "my_name = \"Vasilis\"\n",
        "my_email = \"bill2005@example.com\"\n",
        "myAM_4firstdigits = 9983\n",
        "twofavoritemovies = \"life of Bryan, \" + \"The meaning of life\"\n",
        "print(my_name, my_email, myAM_4firstdigits, twofavoritemovies)"
      ],
      "metadata": {
        "colab": {
          "base_uri": "https://localhost:8080/"
        },
        "id": "Rsh7NsFoggPy",
        "outputId": "6ea14fd8-5a5d-40b6-cf3a-df3bde5579e3"
      },
      "execution_count": null,
      "outputs": [
        {
          "output_type": "stream",
          "name": "stdout",
          "text": [
            "Vasilis bill2005@example.com 9983 life of Bryan, The meaning of life\n"
          ]
        }
      ]
    },
    {
      "cell_type": "markdown",
      "source": [
        "**Άσκηση 2**\n",
        "- Βρείτε ένα άρθρο σε ένα ειδησεογραφικό site.\n",
        "- Φτιάξτε ένα νέο κελί κώδικα (ή όσα θέλετε) ακριβώς κάτω από αυτό και δημιουργήστε μεταβλητές με τα εξής στοιχεία:\n",
        "  - Τίτλος άρθρου\n",
        "  - Ημερομηνία δημοσίευσης\n",
        "  - Όνομα site\n",
        "  - url άρθρου\n",
        "- Τυπώστε (print) μια πρόταση της μορφής: Το άρθρο τάδε δημοσιεύτηκε στο τάδε site την τάδε ημερομηνία και βρίσκεται στην τάδε ηλεκτρονική διεύθυνση."
      ],
      "metadata": {
        "id": "iKYSWrCOLxwA"
      }
    },
    {
      "cell_type": "code",
      "source": [
        "title = \"Μακελειό στη Μόσχα: Το ISIS-K και τα πιθανα κίνητρα της επίθεσης\"\n",
        "date = \"23/3/24\"\n",
        "name = \"Η ΚΑΘΗΜΕΡΙΝΗ\"\n",
        "url = \"https://www.kathimerini.gr/wold/562947073/makeleio-sti-moscha-o-isis-k-kai-ta-pithana-kinitra-tis-epithesis/\"\n",
        "\n",
        "print(\"το άρθρο\", title, \"δημοσιευτηκε στην\", name , \"τις\", date, \"στην ηλεκτρονική διεύθυνση:\" , url)"
      ],
      "metadata": {
        "colab": {
          "base_uri": "https://localhost:8080/"
        },
        "id": "fcedJXk-3sh5",
        "outputId": "0105755c-0bd6-4257-8bc6-484c73af79de"
      },
      "execution_count": null,
      "outputs": [
        {
          "output_type": "stream",
          "name": "stdout",
          "text": [
            "το άρθρο Μακελειό στη Μόσχα: Το ISIS-K και τα πιθανα κίνητρα της επίθεσης δημοσιευτηκε στην Η ΚΑΘΗΜΕΡΙΝΗ τις 23/3/24 στην ηλεκτρονική διεύθυνση: https://www.kathimerini.gr/wold/562947073/makeleio-sti-moscha-o-isis-k-kai-ta-pithana-kinitra-tis-epithesis/\n"
          ]
        }
      ]
    },
    {
      "cell_type": "markdown",
      "source": [
        "**Άσκηση 3**\n",
        "\n",
        "Σε ένα νέο κελί, μετατρέψτε τον τύπο της μεταβλητής ή των μεταβλητών που απαιτείται, έτσι ώστε να μπορεί να εκτελεστεί σωστά η παρακάτω πράξη:\n",
        "\n",
        "(μην γράψετε σωστά την τιμή της/τους - αλλάξτε τον τύπο δεδομένων)\n",
        "(Tip: κάνετε copy-paste τις 2 τελευταίες γραμμές και κάνετε τη διόρθωση που απαιτείται στην προτελευταία γραμμή)"
      ],
      "metadata": {
        "id": "pklY5u3eQKLZ"
      }
    },
    {
      "cell_type": "code",
      "source": [
        "monthly_rent = \"300\"\n",
        "months = 12\n",
        "yearly_rent = monthly_rent * months\n",
        "print(yearly_rent)"
      ],
      "metadata": {
        "colab": {
          "base_uri": "https://localhost:8080/"
        },
        "id": "aLfDQbayNkVd",
        "outputId": "eaee04cf-c6fe-4139-a8f3-4a7a5ca4c020"
      },
      "execution_count": null,
      "outputs": [
        {
          "output_type": "stream",
          "name": "stdout",
          "text": [
            "300300300300300300300300300300300300\n"
          ]
        }
      ]
    },
    {
      "cell_type": "code",
      "source": [
        "monthly_rent = 300\n",
        "months = 12\n",
        "yearly_Rent = monthly_rent * months\n",
        "print(yearly_Rent)"
      ],
      "metadata": {
        "colab": {
          "base_uri": "https://localhost:8080/"
        },
        "id": "VAppGxq95m_d",
        "outputId": "10455e8b-2669-43f2-f714-57c6a590d210"
      },
      "execution_count": null,
      "outputs": [
        {
          "output_type": "stream",
          "name": "stdout",
          "text": [
            "3600\n"
          ]
        }
      ]
    },
    {
      "cell_type": "markdown",
      "source": [
        "**Άσκηση 4**\n",
        "\n",
        "1. Βρείτε το αποτέλεσμα της πρόσθεσης του 132 με το 13 και τυπώστε το σαν string (σε μία γραμμή κώδικα)\n",
        "2. Βρείτε το τετράγωνο του πηλίκου της διαίρεσης του παραπάνω αθροίσματος με το υπόλοιπο της διαίρεσης του 132 με το 13 και τυπώστε το σαν δεκαδικό (σε μια γραμμή κώδικα)\n",
        "\n",
        "Tip: μπορείτε να κάνετε μία-μία τις πράξεις ώστε να ελέγχετε ότι το αποτέλεσμα της καθεμίας είναι σωστό και στο τέλος να βάλετε όλες τις εντολές σε μία γραμμή (αναγκαστικά θα υπάρχουν πολλές παρενθέσεις)"
      ],
      "metadata": {
        "id": "4-MexfUhUJr5"
      }
    },
    {
      "cell_type": "code",
      "source": [
        "print(str(132+13))\n",
        "upoloipo = 132%13\n",
        "piliko = 145//upoloipo\n",
        "tetragwno = piliko**2\n",
        "print(float(tetragwno))"
      ],
      "metadata": {
        "colab": {
          "base_uri": "https://localhost:8080/"
        },
        "id": "JeA1EQ1l6Hx5",
        "outputId": "71aee5a0-60a1-4d2d-a7e8-90a0340072a1"
      },
      "execution_count": null,
      "outputs": [
        {
          "output_type": "stream",
          "name": "stdout",
          "text": [
            "145\n",
            "5184.0\n"
          ]
        }
      ]
    },
    {
      "cell_type": "markdown",
      "source": [
        "**Άσκηση 5**\n",
        "\n",
        "Γράψτε μια γραμμή κώδικα κάτω από το παρακάτω κελί, έτσι ώστε κάθε φορά που θα το τρέχετε, να τυπώνετε (print) η τιμή της μεταβητής counter αυξημένη κατά 1."
      ],
      "metadata": {
        "id": "i9uTmCdLa1F6"
      }
    },
    {
      "cell_type": "code",
      "source": [
        "counter = 1"
      ],
      "metadata": {
        "id": "-Y0-XA9CbNFw"
      },
      "execution_count": 2,
      "outputs": []
    },
    {
      "cell_type": "code",
      "source": [
        "# γράψτε τη ζητούμενη εντολή ακριβώς κάτω από τα σχόλια και πριν την εντολή print(counter)\n",
        "# και τρέξτε το κελί 5-6 φορές\n",
        "# κάθε φορά που το τρέχετε, θα πρέπει ο αριθμός που τυπώνεται να είναι μεγαλύτερος από τον προηγούμενο κατά 1\n",
        "counter = counter + 2/ 2\n",
        "print(counter)"
      ],
      "metadata": {
        "id": "LkXxdJgUbvkQ",
        "colab": {
          "base_uri": "https://localhost:8080/"
        },
        "outputId": "28edfdee-7e2c-4930-b2d8-9fb87e662004"
      },
      "execution_count": 15,
      "outputs": [
        {
          "output_type": "stream",
          "name": "stdout",
          "text": [
            "14.0\n"
          ]
        }
      ]
    }
  ]
}